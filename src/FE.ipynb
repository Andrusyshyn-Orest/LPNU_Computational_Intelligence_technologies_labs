{
 "cells": [
  {
   "cell_type": "code",
   "execution_count": 3,
   "metadata": {},
   "outputs": [],
   "source": [
    "import pandas as pd\n",
    "import numpy as np\n",
    "import matplotlib.pyplot as plt\n",
    "import seaborn as sns"
   ]
  },
  {
   "cell_type": "code",
   "execution_count": 4,
   "metadata": {},
   "outputs": [],
   "source": [
    "DATASET_PATH = \"../data/Loan_Default.csv\"\n",
    "\n",
    "MAP_OPEN_CREDIT      = {'opc': 1, 'nopc': 0}\n",
    "MAP_NEG_AMMO         = {'neg_amm': 1, 'not_neg': 0}\n",
    "MAP_INTEREST_ONLY    = {'int_only': 1, 'not_int': 0}\n",
    "MAP_LUMP_SUM_PAYMENT = {'lpsm': 1, 'not_lpsm': 0}\n",
    "MAP_AGE              = {'<25': 0, '25-34': 1, '35-44': 2, '45-54': 3, '55-64': 4, '65-74': 5, '>74': 6 }\n",
    "MAP_REGION           = {'south':0, 'North': 1, 'central': 2, 'North-East': 3}\n",
    "MAP_BS_OR_COMM       = {'nob/c': 0, 'b/c': 1}\n",
    "MAP_OCC_TYPE         = {'pr': 0, 'sr': 1, 'ir': 2}\n",
    "MAP_SECURED_BY       = {'home': 0, 'land': 1}"
   ]
  },
  {
   "cell_type": "markdown",
   "metadata": {},
   "source": [
    "## Loading Dataset"
   ]
  },
  {
   "cell_type": "code",
   "execution_count": 5,
   "metadata": {},
   "outputs": [],
   "source": [
    "ds = pd.read_csv(DATASET_PATH)\n",
    "important_df =  ds[['loan_amount', 'rate_of_interest', 'Interest_rate_spread', 'Upfront_charges',\n",
    "                    'term', 'property_value', 'LTV', 'Credit_Score', 'income', 'dtir1',\n",
    "                    'open_credit', 'Neg_ammortization', 'interest_only', 'lump_sum_payment',\n",
    "                    'age', 'Region', 'business_or_commercial', 'occupancy_type', 'Secured_by',\n",
    "                    'Status']]\n",
    "\n",
    "important_df.loc[:, 'open_credit']            = important_df['open_credit'].map(MAP_OPEN_CREDIT)\n",
    "important_df.loc[:, 'Neg_ammortization']      = important_df['Neg_ammortization'].map(MAP_NEG_AMMO)\n",
    "important_df.loc[:, 'interest_only']          = important_df['interest_only'].map(MAP_INTEREST_ONLY)\n",
    "important_df.loc[:, 'lump_sum_payment']       = important_df['lump_sum_payment'].map(MAP_LUMP_SUM_PAYMENT)\n",
    "important_df.loc[:, 'age']                    = important_df['age'].map(MAP_AGE)\n",
    "important_df.loc[:, 'Region']                 = important_df['Region'].map(MAP_REGION)\n",
    "important_df.loc[:, 'business_or_commercial'] = important_df['business_or_commercial'].map(MAP_BS_OR_COMM)\n",
    "important_df.loc[:, 'occupancy_type']         = important_df['occupancy_type'].map(MAP_OCC_TYPE)\n",
    "important_df.loc[:, 'Secured_by']             = important_df['Secured_by'].map(MAP_SECURED_BY)\n",
    "\n",
    "important_df = important_df.apply(lambda col: pd.to_numeric(col, errors='coerce') if col.dtype == 'object' else col)\n",
    "\n",
    "important_df.drop(columns=['LTV', 'dtir1', 'Interest_rate_spread'], inplace=True)"
   ]
  },
  {
   "cell_type": "code",
   "execution_count": 7,
   "metadata": {},
   "outputs": [
    {
     "name": "stdout",
     "output_type": "stream",
     "text": []
    }
   ],
   "source": [
    "important_df.head(5)"
   ]
  },
  {
   "cell_type": "code",
   "execution_count": 8,
   "metadata": {},
   "outputs": [
    {
     "name": "stdout",
     "output_type": "stream",
     "text": []
    }
   ],
   "source": [
    "missing = list()\n",
    "for x in important_df.columns:\n",
    "    if important_df[x].isnull().sum() != 0:\n",
    "        print(f\"{x:<30}{important_df[x].isnull().sum():<10}{(important_df[x].isnull().sum() / important_df.shape[0])*100}%\")\n",
    "        missing.append(x)"
   ]
  }
 ],
 "metadata": {
  "kernelspec": {
   "display_name": "cit_venv",
   "language": "python",
   "name": "python3"
  },
  "language_info": {
   "codemirror_mode": {
    "name": "ipython",
    "version": 3
   },
   "file_extension": ".py",
   "mimetype": "text/x-python",
   "name": "python",
   "nbconvert_exporter": "python",
   "pygments_lexer": "ipython3",
   "version": "3.10.12"
  }
 },
 "nbformat": 4,
 "nbformat_minor": 2
}
